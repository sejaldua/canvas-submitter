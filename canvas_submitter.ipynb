{
 "cells": [
  {
   "cell_type": "code",
   "execution_count": 12,
   "metadata": {
    "ExecuteTime": {
     "end_time": "2019-09-05T17:16:28.957144Z",
     "start_time": "2019-09-05T17:16:28.940969Z"
    }
   },
   "outputs": [
    {
     "name": "stdout",
     "output_type": "stream",
     "text": [
      "('Exercise Physiology', 'Assignment I.pdf')\n"
     ]
    }
   ],
   "source": [
    "# os for file management\n",
    "import os\n",
    "# Build tuple of (class, file) to turn in\n",
    "submission_dir = '/Users/sejaldua/Desktop/DIS/completed_assignments'\n",
    "dir_list = list(os.listdir(submission_dir))\n",
    "for directory in dir_list:\n",
    "    file_list = list(os.listdir(os.path.join(submission_dir, directory)))\n",
    "    if len(file_list) != 0:\n",
    "        file_tup = (directory, file_list[0])\n",
    "    \n",
    "#file_tup = tuple(['Exercise Physiology', 'Assignment I.pdf'])\n",
    "print(file_tup)"
   ]
  },
  {
   "cell_type": "code",
   "execution_count": 13,
   "metadata": {
    "ExecuteTime": {
     "end_time": "2019-09-05T17:16:45.604037Z",
     "start_time": "2019-09-05T17:16:31.713426Z"
    }
   },
   "outputs": [],
   "source": [
    "from selenium import webdriver\n",
    "import time\n",
    "import datetime\n",
    "# Using Chrome to access web\n",
    "driver = webdriver.Chrome()\n",
    "# Open the website\n",
    "driver.get('https://canvas.disabroad.org/')\n",
    "\n",
    "time.sleep(5)"
   ]
  },
  {
   "cell_type": "code",
   "execution_count": 14,
   "metadata": {
    "ExecuteTime": {
     "end_time": "2019-09-05T17:17:14.331028Z",
     "start_time": "2019-09-05T17:17:08.816562Z"
    }
   },
   "outputs": [],
   "source": [
    "my_username = 'sejal.dua@tufts.edu'\n",
    "my_pass = 'Tbl@zer58'\n",
    "\n",
    "id_box = driver.find_element_by_id('pseudonym_session_unique_id')\n",
    "id_box.send_keys(my_username)\n",
    "\n",
    "pass_box = driver.find_element_by_id('pseudonym_session_password')\n",
    "pass_box.send_keys(my_pass)\n",
    "driver.find_element_by_css_selector('button').click()"
   ]
  },
  {
   "cell_type": "code",
   "execution_count": 15,
   "metadata": {
    "ExecuteTime": {
     "end_time": "2019-09-05T17:17:14.974551Z",
     "start_time": "2019-09-05T17:17:14.573518Z"
    }
   },
   "outputs": [],
   "source": [
    "# Find and click on list of courses\n",
    "courses_button = driver.find_element_by_id('global_nav_courses_link')\n",
    "courses_button.click()"
   ]
  },
  {
   "cell_type": "code",
   "execution_count": 16,
   "metadata": {
    "ExecuteTime": {
     "end_time": "2019-09-05T17:17:21.594090Z",
     "start_time": "2019-09-05T17:17:18.508176Z"
    }
   },
   "outputs": [],
   "source": [
    "class_select = driver.find_element_by_link_text(file_tup[0])\n",
    "class_select.click()"
   ]
  },
  {
   "cell_type": "code",
   "execution_count": 17,
   "metadata": {
    "ExecuteTime": {
     "end_time": "2019-09-05T17:17:29.871741Z",
     "start_time": "2019-09-05T17:17:23.010878Z"
    }
   },
   "outputs": [],
   "source": [
    "assignment_button = driver.find_element_by_link_text('Assignments')\n",
    "assignment_button.click()\n",
    "\n",
    "folder = file_tup[0]\n",
    "\n",
    "# Wait for the page to load \n",
    "time.sleep(2)\n",
    "\n",
    "# Locate the specific assignment\n",
    "file_name = file_tup[1]\n",
    "file_locator = file_name.split('.')[0]\n",
    "\n",
    "specific_assigment = driver.find_element_by_link_text(file_locator)\n",
    "specific_assigment.click()"
   ]
  },
  {
   "cell_type": "code",
   "execution_count": 18,
   "metadata": {
    "ExecuteTime": {
     "end_time": "2019-09-05T17:17:35.574801Z",
     "start_time": "2019-09-05T17:17:30.723701Z"
    }
   },
   "outputs": [
    {
     "name": "stdout",
     "output_type": "stream",
     "text": [
      "Assignment already submitted, re-submitting\n",
      "Assignment I.pdf Assignment for Class Exercise Physiology successfully submitted at 2019-09-05 19:17:35.\n",
      "Submitted assignment available at /Users/sejaldua/Desktop/DIS/submitted_assignments/Exercise Physiology/Submitted Assignment I.pdf.\n"
     ]
    }
   ],
   "source": [
    "try:\n",
    "    submit_assignment_button = driver.find_element_by_link_text('Submit Assignment')\n",
    "# If assignment has already been submitted\n",
    "except:\n",
    "    print('Assignment already submitted, re-submitting')\n",
    "    submit_assignment_button = driver.find_element_by_link_text('Re-submit Assignment')\n",
    "\n",
    "submit_assignment_button.click()\n",
    "\n",
    "# Wait for the page to load\n",
    "time.sleep(2)\n",
    "\n",
    "# Choose file button\n",
    "choose_file = driver.find_element_by_name('attachments[0][uploaded_data]')\n",
    "\n",
    "# Send the name of the file to the button\n",
    "file_location = os.path.join(submission_dir, folder, file_name)\n",
    "choose_file.send_keys(file_location)\n",
    "\n",
    "submit_assignment = driver.find_element_by_id('submit_file_button')\n",
    "submit_assignment.click()\n",
    "\n",
    "# Wait for the page\n",
    "time.sleep(2)\n",
    "\n",
    "# Move the file to the submitted folder\n",
    "submitted_dir = '/Users/sejaldua/Desktop/DIS/submitted_assignments'\n",
    "submitted_dir = os.path.join(submitted_dir, folder)\n",
    "submitted_file_name = 'Submitted ' + file_name\n",
    "\n",
    "submitted_file_location = os.path.join(submitted_dir, submitted_file_name)\n",
    "# os.rename(file_location, submitted_file_location)\n",
    "\n",
    "print('{} Assignment for Class {} successfully submitted at {}.'.format(\n",
    "    file_name, folder, datetime.datetime.now().strftime('%Y-%m-%d %H:%M:%S')))\n",
    "\n",
    "print('Submitted assignment available at {}.'.format(submitted_file_location))\n"
   ]
  },
  {
   "cell_type": "code",
   "execution_count": null,
   "metadata": {},
   "outputs": [],
   "source": []
  }
 ],
 "metadata": {
  "kernelspec": {
   "display_name": "Python 3",
   "language": "python",
   "name": "python3"
  },
  "language_info": {
   "codemirror_mode": {
    "name": "ipython",
    "version": 3
   },
   "file_extension": ".py",
   "mimetype": "text/x-python",
   "name": "python",
   "nbconvert_exporter": "python",
   "pygments_lexer": "ipython3",
   "version": "3.6.8"
  },
  "toc": {
   "base_numbering": 1,
   "nav_menu": {},
   "number_sections": true,
   "sideBar": true,
   "skip_h1_title": false,
   "title_cell": "Table of Contents",
   "title_sidebar": "Contents",
   "toc_cell": false,
   "toc_position": {},
   "toc_section_display": true,
   "toc_window_display": false
  },
  "varInspector": {
   "cols": {
    "lenName": 16,
    "lenType": 16,
    "lenVar": 40
   },
   "kernels_config": {
    "python": {
     "delete_cmd_postfix": "",
     "delete_cmd_prefix": "del ",
     "library": "var_list.py",
     "varRefreshCmd": "print(var_dic_list())"
    },
    "r": {
     "delete_cmd_postfix": ") ",
     "delete_cmd_prefix": "rm(",
     "library": "var_list.r",
     "varRefreshCmd": "cat(var_dic_list()) "
    }
   },
   "types_to_exclude": [
    "module",
    "function",
    "builtin_function_or_method",
    "instance",
    "_Feature"
   ],
   "window_display": false
  }
 },
 "nbformat": 4,
 "nbformat_minor": 2
}
